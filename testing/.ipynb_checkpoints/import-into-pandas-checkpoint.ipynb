{
 "cells": [
  {
   "cell_type": "code",
   "execution_count": 1,
   "metadata": {
    "collapsed": false
   },
   "outputs": [
    {
     "name": "stdout",
     "output_type": "stream",
     "text": [
      "Loading from JSON file ...\n",
      "Analyzing Dict: |██████████████████████████████| 100.0% Complete\n",
      "\n"
     ]
    }
   ],
   "source": [
    "%run analyze-dict.py info ../ignoredFiles/Large-Sample-Dict/news-nGramDict.json\n"
   ]
  },
  {
   "cell_type": "code",
   "execution_count": 75,
   "metadata": {
    "collapsed": true
   },
   "outputs": [],
   "source": [
    "from pandas import Series, DataFrame\n",
    "import pandas as pd\n",
    "import numpy as np\n",
    "from numpy import nan as NA\n",
    "import json,os"
   ]
  },
  {
   "cell_type": "code",
   "execution_count": 3,
   "metadata": {
    "collapsed": true
   },
   "outputs": [],
   "source": [
    "def prepareDF(freqDict):\n",
    "    n=len(freqDict)\n",
    "    freqDF=DataFrame(freqDict)\n",
    "    freqDF=freqDF.drop(n,axis=1)\n",
    "    colname=[]\n",
    "    for i in list(range(1,n)):\n",
    "        colname.append(str(i)+'-gram')\n",
    "    freqDF.columns=colname\n",
    "    freqDF.reset_index(inplace=True)\n",
    "    return freqDF"
   ]
  },
  {
   "cell_type": "code",
   "execution_count": 4,
   "metadata": {
    "collapsed": true
   },
   "outputs": [],
   "source": [
    "freqDF=prepareDF(freqDict)"
   ]
  },
  {
   "cell_type": "code",
   "execution_count": 18,
   "metadata": {
    "collapsed": true
   },
   "outputs": [],
   "source": [
    "def estimateZr(freqDF,ngram):\n",
    "    freqDF1=freqDF[['index',ngram]].dropna()\n",
    "    freqDF1.columns=['r','Nr']\n",
    "    freqDF1['q']=0\n",
    "    freqDF1['t']=0\n",
    "    freqDF1=freqDF1.reset_index(drop=True)\n",
    "    last_index=0\n",
    "    for i in range(len(freqDF1)):\n",
    "        freqDF1.ix[i,'q']=last_index\n",
    "        last_index=freqDF1.ix[i,'r']\n",
    "    trailing_index=2*freqDF1.ix[len(freqDF1)-1,'r']-freqDF1.ix[len(freqDF1)-1,'q']\n",
    "    for i in range(len(freqDF1)-1,-1,-1):\n",
    "        freqDF1.ix[i,'t']=trailing_index\n",
    "        trailing_index=freqDF1.ix[i,'r']\n",
    "    freqDF1['Zr']=freqDF1['Nr']/(0.5*freqDF1['t']-0.5*freqDF1['q'])\n",
    "    x=np.array(freqDF1['r'])\n",
    "    y=np.array(freqDF1['Zr'])\n",
    "    x_log=np.log(x)\n",
    "    y_log=np.log(y)\n",
    "    c=np.polyfit(x_log,y_log,1)\n",
    "    newKey=DataFrame(list(range(1,freqDF1['r'].max()+2)))\n",
    "    newKey.columns=['r']\n",
    "    mergedDF=pd.merge(newKey,freqDF1,on='r',how='left')[['r','Zr']]\n",
    "    mergedDF=mergedDF.fillna(0)\n",
    "    mergedDF['needEstimate']=True\n",
    "    mergedDF['needEstimate']=mergedDF['needEstimate'].where(mergedDF['Zr']!=0,False)\n",
    "    mergedDF['Zr']=mergedDF['Zr'].where(mergedDF['Zr']!=0,np.exp(c[1]+c[0]*np.log(mergedDF['r'])))\n",
    "    return mergedDF"
   ]
  },
  {
   "cell_type": "code",
   "execution_count": 71,
   "metadata": {
    "collapsed": true
   },
   "outputs": [],
   "source": [
    "def GTdiscount(freqDF):\n",
    "    n=len(freqDict)\n",
    "    colname=[]\n",
    "    GTEstDict={}\n",
    "    for i in list(range(1,n)):\n",
    "        colname.append(str(i)+'-gram')\n",
    "    print('Calculating Good-Turing Discount Ratio for')\n",
    "    for ngram in colname:     \n",
    "        print(ngram,'......')\n",
    "        GTEstDict[ngram]=estimateZr(freqDF,ngram)\n",
    "        for i in GTEstDict[ngram][GTEstDict[ngram]['needEstimate']==True]['r']:\n",
    "            GTEstDict[ngram].ix[i-1,'r-est']=(i+1)*GTEstDict[ngram].ix[i,'Zr']/GTEstDict[ngram].ix[i-1,'Zr']\n",
    "        GTEstDict[ngram]=GTEstDict[ngram][GTEstDict[ngram]['needEstimate']==True][['r','r-est']]\n",
    "        GTEstDict[ngram]['d']=GTEstDict[ngram]['r-est']/GTEstDict[ngram]['r']\n",
    "        GTEstDict[ngram]['d'][GTEstDict[ngram]['d']>=1]=0.999\n",
    "        Temp=GTEstDict[ngram][['r','d']]\n",
    "        GTEstDict[ngram]={}\n",
    "        GTEstDict[ngram]['ct']=Temp['r'].tolist()\n",
    "        GTEstDict[ngram]['d']=Temp['d'].tolist()\n",
    "    return GTEstDict   "
   ]
  },
  {
   "cell_type": "code",
   "execution_count": 72,
   "metadata": {
    "collapsed": false,
    "scrolled": true
   },
   "outputs": [
    {
     "name": "stdout",
     "output_type": "stream",
     "text": [
      "Calculating Good-Turing Discount Ratio for\n",
      "1-gram ......\n"
     ]
    },
    {
     "name": "stderr",
     "output_type": "stream",
     "text": [
      "/home/yewenhe0904/anaconda3/lib/python3.6/site-packages/ipykernel/__main__.py:15: SettingWithCopyWarning: \n",
      "A value is trying to be set on a copy of a slice from a DataFrame\n",
      "\n",
      "See the caveats in the documentation: http://pandas.pydata.org/pandas-docs/stable/indexing.html#indexing-view-versus-copy\n"
     ]
    },
    {
     "name": "stdout",
     "output_type": "stream",
     "text": [
      "2-gram ......\n",
      "3-gram ......\n"
     ]
    }
   ],
   "source": [
    "GTEstDict=GTdiscount(freqDF)"
   ]
  },
  {
   "cell_type": "code",
   "execution_count": 77,
   "metadata": {
    "collapsed": false
   },
   "outputs": [
    {
     "data": {
      "text/plain": [
       "<function TextIOWrapper.close>"
      ]
     },
     "execution_count": 77,
     "metadata": {},
     "output_type": "execute_result"
    }
   ],
   "source": [
    "savetopath='/home/yewenhe0904/Developing/ds-capstone-project/ignoredFiles/news_GT_Discount.json'\n",
    "f1=open(savetopath,\"w\")\n",
    "json.dump(GTEstDict,f1)\n",
    "f1.close"
   ]
  },
  {
   "cell_type": "code",
   "execution_count": null,
   "metadata": {
    "collapsed": true
   },
   "outputs": [],
   "source": []
  },
  {
   "cell_type": "code",
   "execution_count": null,
   "metadata": {
    "collapsed": true
   },
   "outputs": [],
   "source": []
  },
  {
   "cell_type": "code",
   "execution_count": null,
   "metadata": {
    "collapsed": true
   },
   "outputs": [],
   "source": []
  },
  {
   "cell_type": "code",
   "execution_count": null,
   "metadata": {
    "collapsed": true
   },
   "outputs": [],
   "source": []
  },
  {
   "cell_type": "code",
   "execution_count": null,
   "metadata": {
    "collapsed": true
   },
   "outputs": [],
   "source": []
  },
  {
   "cell_type": "code",
   "execution_count": null,
   "metadata": {
    "collapsed": true
   },
   "outputs": [],
   "source": []
  },
  {
   "cell_type": "code",
   "execution_count": null,
   "metadata": {
    "collapsed": true
   },
   "outputs": [],
   "source": []
  },
  {
   "cell_type": "code",
   "execution_count": null,
   "metadata": {
    "collapsed": true
   },
   "outputs": [],
   "source": []
  },
  {
   "cell_type": "code",
   "execution_count": null,
   "metadata": {
    "collapsed": true
   },
   "outputs": [],
   "source": []
  },
  {
   "cell_type": "code",
   "execution_count": null,
   "metadata": {
    "collapsed": true
   },
   "outputs": [],
   "source": []
  },
  {
   "cell_type": "code",
   "execution_count": null,
   "metadata": {
    "collapsed": true
   },
   "outputs": [],
   "source": []
  },
  {
   "cell_type": "code",
   "execution_count": null,
   "metadata": {
    "collapsed": true
   },
   "outputs": [],
   "source": []
  },
  {
   "cell_type": "code",
   "execution_count": null,
   "metadata": {
    "collapsed": true
   },
   "outputs": [],
   "source": []
  },
  {
   "cell_type": "code",
   "execution_count": null,
   "metadata": {
    "collapsed": true
   },
   "outputs": [],
   "source": []
  },
  {
   "cell_type": "code",
   "execution_count": null,
   "metadata": {
    "collapsed": true
   },
   "outputs": [],
   "source": []
  },
  {
   "cell_type": "code",
   "execution_count": null,
   "metadata": {
    "collapsed": true
   },
   "outputs": [],
   "source": []
  },
  {
   "cell_type": "code",
   "execution_count": null,
   "metadata": {
    "collapsed": true
   },
   "outputs": [],
   "source": []
  },
  {
   "cell_type": "code",
   "execution_count": null,
   "metadata": {
    "collapsed": true
   },
   "outputs": [],
   "source": []
  },
  {
   "cell_type": "code",
   "execution_count": null,
   "metadata": {
    "collapsed": true
   },
   "outputs": [],
   "source": []
  },
  {
   "cell_type": "code",
   "execution_count": null,
   "metadata": {
    "collapsed": true
   },
   "outputs": [],
   "source": []
  },
  {
   "cell_type": "code",
   "execution_count": null,
   "metadata": {
    "collapsed": true
   },
   "outputs": [],
   "source": []
  },
  {
   "cell_type": "code",
   "execution_count": null,
   "metadata": {
    "collapsed": true
   },
   "outputs": [],
   "source": []
  },
  {
   "cell_type": "code",
   "execution_count": null,
   "metadata": {
    "collapsed": true
   },
   "outputs": [],
   "source": []
  },
  {
   "cell_type": "code",
   "execution_count": null,
   "metadata": {
    "collapsed": true
   },
   "outputs": [],
   "source": []
  }
 ],
 "metadata": {
  "kernelspec": {
   "display_name": "Python 3",
   "language": "python",
   "name": "python3"
  },
  "language_info": {
   "codemirror_mode": {
    "name": "ipython",
    "version": 3
   },
   "file_extension": ".py",
   "mimetype": "text/x-python",
   "name": "python",
   "nbconvert_exporter": "python",
   "pygments_lexer": "ipython3",
   "version": "3.6.0"
  }
 },
 "nbformat": 4,
 "nbformat_minor": 2
}
