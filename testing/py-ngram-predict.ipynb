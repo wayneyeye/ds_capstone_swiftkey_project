{
 "cells": [
  {
   "cell_type": "code",
   "execution_count": 8,
   "metadata": {
    "collapsed": true
   },
   "outputs": [],
   "source": [
    "import json,os,sys,logging,pprint,re,string"
   ]
  },
  {
   "cell_type": "code",
   "execution_count": 79,
   "metadata": {
    "collapsed": true
   },
   "outputs": [],
   "source": [
    "nGramDict=json.load(open('/home/yewenhe0904/Developing/ds-capstone-project/ignoredFiles/Sample-Dict/twitter-nGramDict.json'))"
   ]
  },
  {
   "cell_type": "code",
   "execution_count": 80,
   "metadata": {
    "collapsed": false
   },
   "outputs": [
    {
     "data": {
      "text/plain": [
       "{'_n': {'W10': {'_n': {'W1159': {'_r': ['W7']},\n",
       "    'W21': {'_r': ['W15']},\n",
       "    'W254': {'_r': ['W7']},\n",
       "    'W32': {'_r': ['W1533']},\n",
       "    'W83': {'_r': ['W7']}},\n",
       "   '_r': ['W7', 'W254', 'W32', 'W83', 'W1159']},\n",
       "  'W100': {'_r': ['W7']},\n",
       "  'W1138': {'_n': {'W25': {'_r': ['W12']}}, '_r': ['W357', 'W7', 'W25']},\n",
       "  'W1147': {'_r': ['W7', 'W405']},\n",
       "  'W1159': {'_n': {'W282': {'_r': ['W7']}}, '_r': ['W282']},\n",
       "  'W11784': {'_r': ['W7']},\n",
       "  'W118': {'_r': ['W7']},\n",
       "  'W12': {'_r': ['W7']},\n",
       "  'W1373': {'_r': ['W32']},\n",
       "  'W145': {'_r': ['W7']},\n",
       "  'W15': {'_r': ['W206']},\n",
       "  'W1514': {'_r': ['W206']},\n",
       "  'W1652': {'_r': ['W7']},\n",
       "  'W195': {'_n': {'W1315': {'_r': ['W69']}}, '_r': ['W1315', 'W7']},\n",
       "  'W21': {'_r': ['W297']},\n",
       "  'W231': {'_n': {'W11739': {'_r': ['W7']}}, '_r': ['W11739']},\n",
       "  'W2465': {'_r': ['W7']},\n",
       "  'W25': {'_n': {'W12': {'_r': ['W668']},\n",
       "    'W370': {'_r': ['W69']},\n",
       "    'W513': {'_r': ['W668']},\n",
       "    'W86': {'_r': ['W1147']}},\n",
       "   '_r': ['W513', 'W12', 'W2877', 'W86', 'W370']},\n",
       "  'W254': {'_r': ['W7']},\n",
       "  'W276': {'_n': {'W348': {'_r': ['W302']},\n",
       "    'W37': {'_r': ['W253']},\n",
       "    'W70': {'_r': ['W253']},\n",
       "    'W765': {'_r': ['W9']}},\n",
       "   '_r': ['W70', 'W37', 'W348', 'W765', 'W860']},\n",
       "  'W282': {'_r': ['W7']},\n",
       "  'W29': {'_r': ['W49']},\n",
       "  'W297': {'_n': {'W79': {'_r': ['W7']}}, '_r': ['W7', 'W79']},\n",
       "  'W3': {'_r': ['W3313']},\n",
       "  'W32': {'_r': ['W1499', 'W33']},\n",
       "  'W328': {'_r': ['W7']},\n",
       "  'W33': {'_n': {'W3173': {'_r': ['W11895']},\n",
       "    'W341': {'_r': ['W206', 'W7']},\n",
       "    'W6172': {'_r': ['W7']},\n",
       "    'W99': {'_r': ['W206']}},\n",
       "   '_r': ['W341', 'W99', 'W6172', 'W3346', 'W3173']},\n",
       "  'W333': {'_r': ['W7']},\n",
       "  'W3915': {'_r': ['W409']},\n",
       "  'W406': {'_n': {'W254': {'_r': ['W7']}, 'W99': {'_r': ['W100', 'W7']}},\n",
       "   '_r': ['W81', 'W99', 'W254']},\n",
       "  'W407': {'_n': {'W12': {'_r': ['W7']}}, '_r': ['W1652', 'W12']},\n",
       "  'W409': {'_r': ['W347', 'W7']},\n",
       "  'W421': {'_n': {'W282': {'_r': ['W7']}}, '_r': ['W282']},\n",
       "  'W427': {'_n': {'W206': {'_r': ['W7']}}, '_r': ['W206']},\n",
       "  'W4666': {'_r': ['W7']},\n",
       "  'W475': {'_r': ['W33']},\n",
       "  'W48': {'_r': ['W33']},\n",
       "  'W49': {'_n': {'W16241': {'_r': ['W7']}}, '_r': ['W16241', 'W748']},\n",
       "  'W5': {'_n': {'W662': {'_r': ['W7']}}, '_r': ['W7', 'W662', 'W32']},\n",
       "  'W513': {'_r': ['W92', 'W282', 'W7']},\n",
       "  'W6393': {'_n': {'W92': {'_r': ['W7']}}, '_r': ['W92']},\n",
       "  'W665': {'_r': ['W7']},\n",
       "  'W715': {'_r': ['W84']},\n",
       "  'W74': {'_r': ['W1652']},\n",
       "  'W750': {'_r': ['W7']},\n",
       "  'W77': {'_r': ['W7']},\n",
       "  'W792': {'_r': ['W7']},\n",
       "  'W81': {'_n': {'W15': {'_r': ['W355']}}, '_r': ['W15']},\n",
       "  'W892': {'_r': ['W92']},\n",
       "  'W91': {'_n': {'W92': {'_r': ['W7']}}, '_r': ['W92']},\n",
       "  'W911': {'_r': ['W69']},\n",
       "  'W92': {'_r': ['W7']},\n",
       "  'W99': {'_n': {'W100': {'_r': ['W7']}}, '_r': ['W100']}},\n",
       " '_r': ['W7', 'W25', 'W10', 'W33', 'W5']}"
      ]
     },
     "execution_count": 80,
     "metadata": {},
     "output_type": "execute_result"
    }
   ],
   "source": [
    "nGramDict['_n']['W9']"
   ]
  },
  {
   "cell_type": "code",
   "execution_count": 81,
   "metadata": {
    "collapsed": true
   },
   "outputs": [],
   "source": [
    "test_input='he is donald'"
   ]
  },
  {
   "cell_type": "code",
   "execution_count": 82,
   "metadata": {
    "collapsed": false
   },
   "outputs": [],
   "source": [
    "def cleanInputPredict(test_input):\n",
    "    cleanedInput=[]\n",
    "    test_tokens=test_input.strip().lower().split()\n",
    "    test_input=re.sub('\\n+',\" \",test_input)\n",
    "    for item in test_tokens:\n",
    "        item = item.strip(string.punctuation)\n",
    "        item = re.sub(r\"^.*\\d+.*$\",\"<Quantity>\",item)\n",
    "        cleanedInput.append(item)\n",
    "    return cleanedInput"
   ]
  },
  {
   "cell_type": "code",
   "execution_count": 83,
   "metadata": {
    "collapsed": false
   },
   "outputs": [],
   "source": [
    "def predictCore(input_tokens,output_list,out_len=5):\n",
    "    print (input_tokens)\n",
    "    if len(input_tokens)<1:\n",
    "        output_list+=(nGramDict['_r'])\n",
    "    else:\n",
    "        # probe if in ngram record\n",
    "        nGram_flag=True\n",
    "        i=0\n",
    "        p_Dict=nGramDict['_n']\n",
    "        while nGram_flag:\n",
    "            print(i)\n",
    "            if i==len(input_tokens):\n",
    "                break\n",
    "            if (input_tokens[i] in p_Dict):\n",
    "                r_wids=p_Dict[input_tokens[i]]['_r']\n",
    "                if ('_n' in p_Dict[input_tokens[i]]):\n",
    "                    p_Dict=p_Dict[input_tokens[i]]['_n']\n",
    "                    i+=1\n",
    "                else:\n",
    "                    if i<len(input_tokens)-1:\n",
    "                        nGram_flag=False\n",
    "                    break\n",
    "            else:\n",
    "                nGram_flag=False\n",
    "                break\n",
    "        # if true\n",
    "        if nGram_flag:\n",
    "            output_list+=r_wids\n",
    "            if len(output_list)<out_len:\n",
    "                del input_tokens[0]\n",
    "                predictCore(input_tokens,output_list,out_len=out_len)\n",
    "        # else false\n",
    "        else:\n",
    "            del input_tokens[0]\n",
    "            predictCore(input_tokens,output_list,out_len=out_len)\n",
    "\n",
    "\n",
    "        \n",
    "        \n",
    "        "
   ]
  },
  {
   "cell_type": "code",
   "execution_count": 84,
   "metadata": {
    "collapsed": true
   },
   "outputs": [],
   "source": [
    "def predictNgram(test_input,out_len):\n",
    "    #clean input string\n",
    "    input_tokens=cleanInputPredict(test_input)\n",
    "    if len(input_tokens)>nGramDict['_model']:\n",
    "        input_tokens=input_tokens[-nGramDict['_model']:]\n",
    "    output_list=[]\n",
    "    output_wlist=[]\n",
    "    output=[]\n",
    "    input_idtokens=[]\n",
    "    for w in input_tokens:\n",
    "        w.strip()\n",
    "        if w in nGramDict['_word2id']['_word']:\n",
    "            input_idtokens.append(nGramDict['_word2id']['_word'][w])\n",
    "        else:\n",
    "            input_idtokens.append('NA')\n",
    "    predictCore(input_idtokens,output_list,out_len)\n",
    "    for wid in output_list:\n",
    "        output_wlist.append(nGramDict['_id2word']['_id'][wid])\n",
    "    eosflag=True\n",
    "    for word in output_wlist:\n",
    "        if word=='<EOS>':\n",
    "            if eosflag:\n",
    "                output.append(',')\n",
    "                output.append('.')\n",
    "            eosflag=False\n",
    "        elif word==\"<Quantity>\":\n",
    "            pass\n",
    "        else:\n",
    "            output.append(word)\n",
    "        #dedupe\n",
    "        output_dp=[output[0]]\n",
    "        if len(output)>1:\n",
    "            for i in range(1,len(output)):\n",
    "                if output[i] not in output[:i]:\n",
    "                    output_dp.append(output[i])\n",
    "        if len(output_dp)>out_len:\n",
    "            output_dp=output_dp[0:out_len]\n",
    "    return output_dp"
   ]
  },
  {
   "cell_type": "code",
   "execution_count": 85,
   "metadata": {
    "collapsed": false
   },
   "outputs": [
    {
     "name": "stdout",
     "output_type": "stream",
     "text": [
      "['W691', 'W24', 'W5751']\n",
      "0\n",
      "1\n",
      "2\n",
      "['W24', 'W5751']\n",
      "0\n",
      "1\n",
      "['W5751']\n",
      "0\n",
      "[]\n"
     ]
    },
    {
     "data": {
      "text/plain": [
       "['trump', ',', '.', 'duck', 'driver', 'the', 'to', 'i']"
      ]
     },
     "execution_count": 85,
     "metadata": {},
     "output_type": "execute_result"
    }
   ],
   "source": [
    "predictNgram(test_input,8)"
   ]
  },
  {
   "cell_type": "code",
   "execution_count": null,
   "metadata": {
    "collapsed": true
   },
   "outputs": [],
   "source": []
  },
  {
   "cell_type": "code",
   "execution_count": null,
   "metadata": {
    "collapsed": true
   },
   "outputs": [],
   "source": []
  },
  {
   "cell_type": "code",
   "execution_count": null,
   "metadata": {
    "collapsed": true
   },
   "outputs": [],
   "source": []
  },
  {
   "cell_type": "code",
   "execution_count": null,
   "metadata": {
    "collapsed": true
   },
   "outputs": [],
   "source": []
  },
  {
   "cell_type": "code",
   "execution_count": null,
   "metadata": {
    "collapsed": true
   },
   "outputs": [],
   "source": []
  },
  {
   "cell_type": "code",
   "execution_count": null,
   "metadata": {
    "collapsed": true
   },
   "outputs": [],
   "source": []
  },
  {
   "cell_type": "code",
   "execution_count": null,
   "metadata": {
    "collapsed": true
   },
   "outputs": [],
   "source": []
  },
  {
   "cell_type": "code",
   "execution_count": null,
   "metadata": {
    "collapsed": true
   },
   "outputs": [],
   "source": []
  },
  {
   "cell_type": "code",
   "execution_count": null,
   "metadata": {
    "collapsed": true
   },
   "outputs": [],
   "source": []
  },
  {
   "cell_type": "code",
   "execution_count": null,
   "metadata": {
    "collapsed": true
   },
   "outputs": [],
   "source": []
  },
  {
   "cell_type": "code",
   "execution_count": null,
   "metadata": {
    "collapsed": true
   },
   "outputs": [],
   "source": []
  }
 ],
 "metadata": {
  "kernelspec": {
   "display_name": "Python 3",
   "language": "python",
   "name": "python3"
  },
  "language_info": {
   "codemirror_mode": {
    "name": "ipython",
    "version": 3
   },
   "file_extension": ".py",
   "mimetype": "text/x-python",
   "name": "python",
   "nbconvert_exporter": "python",
   "pygments_lexer": "ipython3",
   "version": "3.6.0"
  }
 },
 "nbformat": 4,
 "nbformat_minor": 2
}
